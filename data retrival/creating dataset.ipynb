{
 "cells": [
  {
   "cell_type": "code",
   "execution_count": 1,
   "metadata": {},
   "outputs": [],
   "source": [
    "import spotipy\n",
    "from spotipy.oauth2 import SpotifyClientCredentials\n",
    "import pandas as pd\n",
    "\n",
    "cid =\"3258e3ed80d648b1a7da290a44331c42\" \n",
    "secret = \"3aefced1830e4bdd84403b3f1cdc41fc\"\n",
    "\n",
    "client_credentials_manager = SpotifyClientCredentials(client_id=cid, client_secret=secret)\n",
    "sp = spotipy.Spotify(client_credentials_manager=client_credentials_manager)\n"
   ]
  },
  {
   "cell_type": "code",
   "execution_count": 2,
   "metadata": {},
   "outputs": [
    {
     "name": "stdout",
     "output_type": "stream",
     "text": [
      "(10000, 5)\n",
      "(10000, 5)\n",
      "(10000, 5)\n",
      "(10000, 5)\n",
      "(10000, 5)\n"
     ]
    }
   ],
   "source": [
    "\"\"\" We will collect data from spotify and we will use search feature of spotify as it will give us not only\n",
    "    the song and artist but also track ID which we can use to get audio attributes of those songs later on.\n",
    "\"\"\"\n",
    "\n",
    "years = [2015, 2016, 2017, 2018, 2019]\n",
    "\n",
    "for year in years:\n",
    "    artist_name = []\n",
    "    track_name = []\n",
    "    popularity = []\n",
    "    track_id = []\n",
    "    release_date = []\n",
    "\n",
    "    for i in range(0,10000,50):\n",
    "        track_results = sp.search(q='year:{}'.format(year), type='track', limit=50,offset=i)\n",
    "        for i, t in enumerate(track_results['tracks']['items']):\n",
    "            try:\n",
    "                release_date.append(t['album']['release_date'])\n",
    "            except:\n",
    "                release_date.append('?')\n",
    "            artist_name.append(t['artists'][0]['name'])\n",
    "            track_name.append(t['name'])\n",
    "            track_id.append(t['id'])\n",
    "            popularity.append(t['popularity'])\n",
    "\n",
    "    df_tracks = pd.DataFrame({'artist_name':artist_name,'release_date':release_date,'track_name':track_name,'track_id':track_id,'popularity':popularity})\n",
    "    print(df_tracks.shape)\n",
    "    df_tracks.to_csv(r'{}.csv'.format(year))\n"
   ]
  },
  {
   "cell_type": "code",
   "execution_count": 3,
   "metadata": {},
   "outputs": [],
   "source": [
    "# we put all csv into a dataframe\n",
    "df15 = pd.read_csv('2015.csv')\n",
    "df16 = pd.read_csv('2016.csv')\n",
    "df17 = pd.read_csv('2017.csv')\n",
    "df18 = pd.read_csv('2018.csv')\n",
    "df19 = pd.read_csv('2019.csv')\n",
    "\n",
    "# we need to drop duplicates\n",
    "df15.drop_duplicates(subset=['artist_name','track_name'], inplace=True)\n",
    "df16.drop_duplicates(subset=['artist_name','track_name'], inplace=True)\n",
    "df17.drop_duplicates(subset=['artist_name','track_name'], inplace=True)\n",
    "df18.drop_duplicates(subset=['artist_name','track_name'], inplace=True)\n",
    "df19.drop_duplicates(subset=['artist_name','track_name'], inplace=True)"
   ]
  },
  {
   "cell_type": "code",
   "execution_count": 4,
   "metadata": {},
   "outputs": [
    {
     "name": "stdout",
     "output_type": "stream",
     "text": [
      "Number of tracks where no audio features were available for 2015: 1\n",
      "number of elements: 9616\n",
      "Number of tracks where no audio features were available for 2016: 2\n",
      "number of elements: 9734\n",
      "Number of tracks where no audio features were available for 2017: 0\n",
      "number of elements: 9643\n",
      "Number of tracks where no audio features were available for 2018: 0\n",
      "number of elements: 9682\n",
      "Number of tracks where no audio features were available for 2019: 143\n",
      "number of elements: 9238\n"
     ]
    }
   ],
   "source": [
    "# we acquire information on the essential audio features on those tracks\n",
    "\n",
    "dflist = [df15, df16, df17, df18, df19]\n",
    "ind = 0\n",
    "\n",
    "for year in years:\n",
    "    data = []\n",
    "    limit = 100 \n",
    "    noval = 0\n",
    "    df = dflist[ind]\n",
    "    ind += 1\n",
    "\n",
    "    for i in range(0,len(df['track_id']), limit):\n",
    "        batch = df['track_id'][i:i+limit]\n",
    "        feature_results = sp.audio_features(batch)\n",
    "        for i, t in enumerate(feature_results):\n",
    "            if t == None:\n",
    "                noval += 1\n",
    "            else:\n",
    "                data.append(t)\n",
    "\n",
    "    print('Number of tracks where no audio features were available for {}:'.format(year),noval)\n",
    "    print('number of elements:', len(data))\n",
    "    df_audio_features = pd.DataFrame.from_dict(data,orient='columns')\n",
    "    columns_to_drop = ['analysis_url','track_href','type','uri']\n",
    "    df_audio_features.drop(columns_to_drop, axis=1,inplace=True)\n",
    "    df_audio_features.rename(columns={'id': 'track_id'}, inplace=True)\n",
    "    df = pd.merge(df,df_audio_features,on='track_id',how='inner')\n",
    "    df.to_csv(r'final{}.csv'.format(year))\n",
    "    "
   ]
  },
  {
   "cell_type": "code",
   "execution_count": null,
   "metadata": {},
   "outputs": [],
   "source": []
  }
 ],
 "metadata": {
  "kernelspec": {
   "display_name": "Python 3",
   "language": "python",
   "name": "python3"
  },
  "language_info": {
   "codemirror_mode": {
    "name": "ipython",
    "version": 3
   },
   "file_extension": ".py",
   "mimetype": "text/x-python",
   "name": "python",
   "nbconvert_exporter": "python",
   "pygments_lexer": "ipython3",
   "version": "3.7.3"
  }
 },
 "nbformat": 4,
 "nbformat_minor": 2
}
